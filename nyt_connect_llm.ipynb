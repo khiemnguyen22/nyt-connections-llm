{
  "nbformat": 4,
  "nbformat_minor": 0,
  "metadata": {
    "colab": {
      "provenance": []
    },
    "kernelspec": {
      "name": "python3",
      "display_name": "Python 3"
    },
    "language_info": {
      "name": "python"
    }
  },
  "cells": [
    {
      "cell_type": "code",
      "execution_count": 1,
      "metadata": {
        "id": "7wnOEJRxZsw_"
      },
      "outputs": [],
      "source": [
        "import datetime\n",
        "import json\n",
        "import random\n",
        "import torch\n",
        "import os\n",
        "\n",
        "from transformers import pipeline"
      ]
    },
    {
      "cell_type": "markdown",
      "source": [
        "# Load Data"
      ],
      "metadata": {
        "id": "4xJ0qzJwbmuy"
      }
    },
    {
      "cell_type": "code",
      "source": [
        "from google.colab import drive\n",
        "drive.mount('/content/drive')"
      ],
      "metadata": {
        "colab": {
          "base_uri": "https://localhost:8080/"
        },
        "id": "t1j9C9uBbobA",
        "outputId": "18517024-abb8-44cb-b2e7-62f0a19d10b0"
      },
      "execution_count": 3,
      "outputs": [
        {
          "output_type": "stream",
          "name": "stdout",
          "text": [
            "Mounted at /content/drive\n"
          ]
        }
      ]
    },
    {
      "cell_type": "code",
      "source": [
        "with open('/content/drive/MyDrive/Spring 2024/nyt_puzzles/nyt_connect/puzzles.json') as f:\n",
        "    puzzle_data = json.load(f)"
      ],
      "metadata": {
        "id": "-6-nT547coLV"
      },
      "execution_count": 4,
      "outputs": []
    },
    {
      "cell_type": "markdown",
      "source": [
        "# Helper function"
      ],
      "metadata": {
        "id": "F4WYyytbbf-z"
      }
    },
    {
      "cell_type": "code",
      "source": [
        "def date_to_puzzle(date):\n",
        "    first_puzzle_id = 204\n",
        "    first_date = datetime.datetime.strptime('01/01/2024','%m/%d/%Y')\n",
        "\n",
        "    number_of_days = (date - first_date)\n",
        "    return first_puzzle_id + number_of_days.days\n",
        "\n",
        "def load_puzzle(puzzle_data, puzzle_id):\n",
        "    for puzzle in puzzle_data:\n",
        "        # print(puzzle['puzzle_id'])\n",
        "        if puzzle['puzzle_id'] == str(puzzle_id):\n",
        "            return puzzle['content']\n",
        "    return None\n",
        "\n",
        "def load_words(puzzle_content):\n",
        "    answers, words = {}, []\n",
        "    for group in puzzle_content:\n",
        "        answers[group['description']] = group['words']\n",
        "        words += group['words']\n",
        "    return answers, words\n",
        "\n",
        "def llm_suggestion(pipe, words):\n",
        "\n",
        "    word_lst = ', '.join(words)\n",
        "\n",
        "    messages = [\n",
        "        {\n",
        "            \"role\": \"system\",\n",
        "            \"content\": '''\n",
        "                You are a human trying to solve a puzzle using your knowledge on different word meanings, slangs, idioms, and popular culture references\n",
        "            ''',\n",
        "        },\n",
        "        {\n",
        "            \"role\": \"user\",\n",
        "            \"content\": f'''\n",
        "                Given the list of words: {word_lst}\n",
        "\n",
        "                Solve the puzzle by following these exact rules:\n",
        "                - Each word in the list of words above belongs to exactly 1 unspecified category. There are 4 categories in total with each category containing 4 different words\n",
        "                - Determine the 4 categories and the 4 respective words belonging to them\n",
        "                - Return the solution of this puzzle in the exact format below:\n",
        "\n",
        "                    Category 1: [4 words from the list]\n",
        "                    Category 2: [4 words from the list]\n",
        "                    Category 3: [4 words from the list]\n",
        "                    Category 4: [4 words from the list]\n",
        "\n",
        "\n",
        "            '''},\n",
        "    ]\n",
        "    prompt = pipe.tokenizer.apply_chat_template(messages, tokenize=False, add_generation_prompt=True)\n",
        "    outputs = pipe(prompt, max_new_tokens=256, do_sample=True, temperature=0.7, top_k=50, top_p=0.95)\n",
        "    res = outputs[0][\"generated_text\"]\n",
        "    return res.split('<|assistant|>', 1)[1].lower()"
      ],
      "metadata": {
        "id": "FxYX9XRYbSUz"
      },
      "execution_count": 10,
      "outputs": []
    },
    {
      "cell_type": "markdown",
      "source": [
        "# Main Program"
      ],
      "metadata": {
        "id": "n0yTSpqLc0FW"
      }
    },
    {
      "cell_type": "code",
      "source": [
        "date_str = input('Choose date (MM/DD/2024): ')\n",
        "date = datetime.datetime.strptime(date_str, '%m/%d/%Y')\n",
        "\n",
        "puzzle_id = date_to_puzzle(date)\n",
        "print('Puzzle Number: ', puzzle_id)"
      ],
      "metadata": {
        "colab": {
          "base_uri": "https://localhost:8080/"
        },
        "id": "QHqm0RHMbfJh",
        "outputId": "4e2fc75e-f86a-4b8e-e815-9a94cfb6088d"
      },
      "execution_count": 5,
      "outputs": [
        {
          "output_type": "stream",
          "name": "stdout",
          "text": [
            "Choose date (MM/DD/2024): 01/02/2024\n",
            "Puzzle Number:  205\n"
          ]
        }
      ]
    },
    {
      "cell_type": "code",
      "source": [
        "content = load_puzzle(puzzle_data, puzzle_id)\n",
        "answers, words = load_words(content)\n",
        "\n",
        "random.shuffle(words)\n",
        "\n",
        "print(f'\\n-----Puzzle {puzzle_id} - {date_str}-----')\n",
        "for i in range(4):\n",
        "    print('| ' + ' | '.join(words[i*2: i*2 + 4]) + ' |')\n"
      ],
      "metadata": {
        "colab": {
          "base_uri": "https://localhost:8080/"
        },
        "id": "L3t0COOrc5Bw",
        "outputId": "dc7be939-6dd5-40ca-aa7d-bb7bf2d57642"
      },
      "execution_count": 6,
      "outputs": [
        {
          "output_type": "stream",
          "name": "stdout",
          "text": [
            "\n",
            "-----Puzzle 205 - 01/02/2024-----\n",
            "| JAM | DOUBLE | WONDER | CLOG |\n",
            "| WONDER | CLOG | HIT | FRY |\n",
            "| HIT | FRY | WORLD | RUN |\n",
            "| WORLD | RUN | WALK | TOMATO |\n"
          ]
        }
      ]
    },
    {
      "cell_type": "code",
      "source": [
        "pipe = pipeline(\"text-generation\", model=\"TinyLlama/TinyLlama-1.1B-Chat-v0.6\", torch_dtype=torch.bfloat16)"
      ],
      "metadata": {
        "id": "KhwZbLG0gSyJ"
      },
      "execution_count": 11,
      "outputs": []
    },
    {
      "cell_type": "code",
      "source": [
        "print('\\n----- GenAI Suggestion -----')\n",
        "print(llm_suggestion(pipe, words))"
      ],
      "metadata": {
        "colab": {
          "base_uri": "https://localhost:8080/"
        },
        "id": "cP9VYdwwc-PC",
        "outputId": "77d55494-5eb1-47b5-ecc2-1af465df41e9"
      },
      "execution_count": 13,
      "outputs": [
        {
          "output_type": "stream",
          "name": "stdout",
          "text": [
            "\n",
            "----- GenAI Suggestion -----\n",
            "\n",
            "to solve the puzzle using the above rules, follow these steps:\n",
            "\n",
            "1. first, identify the categories: determine the 4 categories in the puzzle, which are jam, double, wonder, clog, hit, fry, world, run, walk, tomato, bacon, talk, lettuce, stop, block, bread.\n",
            "\n",
            "2. identify the words belonging to each category: determine the 4 words from each category that belong to the puzzle. for example, jam belongs to category 1, double belongs to category 2, wonder belongs to category 3, clog belongs to category 4, hit belongs to category 3, fry belongs to category 2, world belongs to category 3, run belongs to category 1, walk belongs to category 2, tomato belongs to category 3, bacon belongs to category 1, talk belongs to category 1, lettuce belongs to category 4, stop belongs to category 2, block belongs to category\n"
          ]
        }
      ]
    },
    {
      "cell_type": "code",
      "source": [
        "print(f'\\n----- Answer -----')\n",
        "for group in answers.keys():\n",
        "    print(f'{group}: '+ ', '.join(answers[group]))"
      ],
      "metadata": {
        "colab": {
          "base_uri": "https://localhost:8080/"
        },
        "id": "N7YK9k52dBsx",
        "outputId": "daebbe5d-fcf4-4ede-a29b-107e75df34ba"
      },
      "execution_count": 8,
      "outputs": [
        {
          "output_type": "stream",
          "name": "stdout",
          "text": [
            "\n",
            "----- Answer -----\n",
            "B.L.T. INGREDIENTS: BACON, BREAD, LETTUCE, TOMATO\n",
            "OBSTRUCT: BLOCK, CLOG, JAM, STOP\n",
            "BASEBALL STATS: DOUBLE, HIT, RUN, WALK\n",
            "SMALL ___: FRY, TALK, WONDER, WORLD\n"
          ]
        }
      ]
    },
    {
      "cell_type": "code",
      "source": [],
      "metadata": {
        "id": "eLgIMi1Ke5gG"
      },
      "execution_count": null,
      "outputs": []
    }
  ]
}